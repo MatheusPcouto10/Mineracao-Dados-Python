{
  "nbformat": 4,
  "nbformat_minor": 0,
  "metadata": {
    "kernelspec": {
      "display_name": "Python 3",
      "language": "python",
      "name": "python3"
    },
    "language_info": {
      "codemirror_mode": {
        "name": "ipython",
        "version": 3
      },
      "file_extension": ".py",
      "mimetype": "text/x-python",
      "name": "python",
      "nbconvert_exporter": "python",
      "pygments_lexer": "ipython3",
      "version": "3.6.9"
    },
    "colab": {
      "name": "folha_de_pagamento_unitins.ipynb",
      "provenance": []
    }
  },
  "cells": [
    {
      "cell_type": "markdown",
      "metadata": {
        "id": "8RA1vjfcnjjh"
      },
      "source": [
        "# Análise da folha de pagamento da Unitins"
      ]
    },
    {
      "cell_type": "code",
      "metadata": {
        "id": "bNxgq5u8njjr"
      },
      "source": [
        "import os.path\n",
        "import numpy as np\n",
        "import pandas as pd\n",
        "import seaborn as sns\n",
        "import matplotlib.pyplot as plt\n",
        "from IPython.display import clear_output"
      ],
      "execution_count": null,
      "outputs": []
    },
    {
      "cell_type": "code",
      "metadata": {
        "id": "n_JtUeM-njju",
        "colab": {
          "base_uri": "https://localhost:8080/"
        },
        "outputId": "145d3e59-4976-497f-ea40-dc07a4d5d7b5"
      },
      "source": [
        "df = pd.DataFrame()\n",
        "\n",
        "if os.path.isfile('folha.csv'):\n",
        "    df = pd.read_csv(\"folha.csv\", sep=\";\")\n",
        "else:\n",
        "    for ano in range(2008, 2021):\n",
        "        for mes in range(1, 13):\n",
        "            clear_output(wait=True)\n",
        "            print(\"Referência: {}_{:02}\".format(ano, mes))\n",
        "            url = \"https://www.unitins.br/portaltransparencia/folha-de-pagamento?TipoAno={}&tipoMes={:02}&TipoPesquisa=Nome&busca=\".format(ano, mes)\n",
        "            try:\n",
        "                salario = pd.read_html(url)\n",
        "                df_salario = pd.DataFrame(salario[0])\n",
        "                df_salario['referencia'] = \"{}_{:02}\".format(ano, mes)\n",
        "\n",
        "                df = df.append(df_salario, ignore_index=True)\n",
        "            except:\n",
        "                pass\n",
        "    df['TOTAL VENCIMENTO*'] = [x.strip(\"R$ \") for x in df['TOTAL VENCIMENTO*']]\n",
        "    df['DESCONTO IRRF'] = [x.strip(\"R$ \") for x in df['DESCONTO IRRF']]\n",
        "    df['DESCONTO PREVIDÊNCIA'] = [x.strip(\"R$ \") for x in df['DESCONTO PREVIDÊNCIA']]\n",
        "    df['DESCONTOS DIVERSOS'] = [x.strip(\"R$ \") for x in df['DESCONTOS DIVERSOS']]\n",
        "    df['SALÁRIO LÍQUIDO'] = [x.strip(\"R$ \") for x in df['SALÁRIO LÍQUIDO']]\n",
        "\n",
        "    df['TOTAL VENCIMENTO*'] = df['TOTAL VENCIMENTO*'].str.replace('.', \"\")\n",
        "    df['TOTAL VENCIMENTO*'] = df['TOTAL VENCIMENTO*'].str.replace(',', \".\").astype(float)\n",
        "\n",
        "    df['DESCONTO IRRF'] = df['DESCONTO IRRF'].str.replace('.', \"\")\n",
        "    df['DESCONTO IRRF'] = df['DESCONTO IRRF'].str.replace(',', \".\").astype(float)\n",
        "\n",
        "    df['DESCONTO PREVIDÊNCIA'] = df['DESCONTO PREVIDÊNCIA'].str.replace('.', \"\")\n",
        "    df['DESCONTO PREVIDÊNCIA'] = df['DESCONTO PREVIDÊNCIA'].str.replace(',', \".\").astype(float)\n",
        "\n",
        "    df['DESCONTOS DIVERSOS'] = df['DESCONTOS DIVERSOS'].str.replace('.', \"\")\n",
        "    df['DESCONTOS DIVERSOS'] = df['DESCONTOS DIVERSOS'].str.replace(',', \".\").astype(float)\n",
        "\n",
        "    df['SALÁRIO LÍQUIDO'] = df['SALÁRIO LÍQUIDO'].str.replace('.', \"\")\n",
        "    df['SALÁRIO LÍQUIDO'] = df['SALÁRIO LÍQUIDO'].str.replace(',', \".\").astype(float)\n",
        "    \n",
        "    df.to_csv(\"folha.csv\", sep=\";\", index=False)"
      ],
      "execution_count": 5,
      "outputs": [
        {
          "output_type": "stream",
          "text": [
            "Referência: 2021_12\n"
          ],
          "name": "stdout"
        }
      ]
    },
    {
      "cell_type": "markdown",
      "metadata": {
        "id": "IaBP3ZXEnjjz"
      },
      "source": [
        "## Número de servidores na Unitins"
      ]
    },
    {
      "cell_type": "code",
      "metadata": {
        "scrolled": true,
        "id": "DSd_-qKvnjjz"
      },
      "source": [
        "# df.head()\n",
        "\n",
        "print(\"Total de servidores: \", len(df))\n",
        "print(\"Total de efetivos: \", len(df[df['VÍNCULO'] == 'EFETIVO']))\n",
        "print(\"Total de comissionados: \", len(df[df['VÍNCULO'] == 'COMISSIONADO']))\n",
        "print(\"Total de contratados: \", len(df[df['VÍNCULO'] == 'CONTRATADO']))\n",
        "print(\"Total de a disposição: \", len(df[df['VÍNCULO'] == 'EFETIVO/Disp'] ))\n"
      ],
      "execution_count": null,
      "outputs": []
    },
    {
      "cell_type": "code",
      "metadata": {
        "scrolled": true,
        "id": "RSd1Of6Gnjj0"
      },
      "source": [
        "profs = ['PROF. ADJUNTO I', 'PROF. DOUTOR I /2893',\n",
        "       'PROF. MESTRE I /2893', 'PROF.UNIVERSITARIO 2',\n",
        "       'PROF.UNIVERSITARIO 3', 'PROF.UNIVERSITARIO I', 'QS PU1PROF ESP. 4',\n",
        "       'QS PU1PROF. DOUTOR4', 'QS PU1PROF. MESTRE4']\n",
        "\n",
        "filtro_prof_efetivos = (df['FUNÇÃO'].isin(profs)) & (df['VÍNCULO'] == 'EFETIVO')\n",
        "\n",
        "# df[filtro_prof_efetivos]"
      ],
      "execution_count": 7,
      "outputs": []
    },
    {
      "cell_type": "code",
      "metadata": {
        "scrolled": false,
        "id": "S2v5gwpSnjj0"
      },
      "source": [
        "pyplot\n",
        "matplotlib"
      ],
      "execution_count": null,
      "outputs": []
    },
    {
      "cell_type": "markdown",
      "metadata": {
        "id": "XTk8XDMOnjj1"
      },
      "source": [
        "## Descrição do campo salário líquido: média, menor, maior e moda."
      ]
    },
    {
      "cell_type": "code",
      "metadata": {
        "id": "6C-RUZwdnjj1",
        "colab": {
          "base_uri": "https://localhost:8080/",
          "height": 315
        },
        "outputId": "ff185609-13de-4174-ec9b-9f3ad53044f5"
      },
      "source": [
        "df['SALÁRIO LÍQUIDO'].hist()\n",
        "print(\"Menor: \", np.min(df['SALÁRIO LÍQUIDO']))\n",
        "print(\"Maior: \", np.max(df['SALÁRIO LÍQUIDO']))\n",
        "print(\"Moda: \", df['SALÁRIO LÍQUIDO'].mode()[0])"
      ],
      "execution_count": 8,
      "outputs": [
        {
          "output_type": "stream",
          "text": [
            "Menor:  -5.7\n",
            "Maior:  51886.74\n",
            "Moda:  0.0\n"
          ],
          "name": "stdout"
        },
        {
          "output_type": "display_data",
          "data": {
            "image/png": "[encoded data removed]",
            "text/plain": [
              "<Figure size 432x288 with 1 Axes>"
            ]
          },
          "metadata": {
            "tags": [],
            "needs_background": "light"
          }
        }
      ]
    },
    {
      "cell_type": "markdown",
      "metadata": {
        "id": "FSaKPS0Qnjj1"
      },
      "source": [
        "## Descrição do campo salário bruto: média, menor, maior e moda."
      ]
    },
    {
      "cell_type": "code",
      "metadata": {
        "id": "hI6fbwIenjj2"
      },
      "source": [
        "df['TOTAL VENCIMENTO*'] = df['TOTAL VENCIMENTO*'].str.replace('.', \"\")\n",
        "df['TOTAL VENCIMENTO*'] = df['TOTAL VENCIMENTO*'].str.replace(',', \".\").astype(float)"
      ],
      "execution_count": null,
      "outputs": []
    },
    {
      "cell_type": "code",
      "metadata": {
        "id": "z67KEcUhnjj2",
        "colab": {
          "base_uri": "https://localhost:8080/",
          "height": 332
        },
        "outputId": "9a9dbcfc-eafe-4010-e311-7e247fd693a0"
      },
      "source": [
        "df['TOTAL VENCIMENTO*'].hist()\n",
        "\n",
        "print(\"Média: \", np.mean(df['TOTAL VENCIMENTO*']))\n",
        "print(\"Menor: \", np.min(df['TOTAL VENCIMENTO*']))\n",
        "print(\"Maior: \", np.max(df['TOTAL VENCIMENTO*']))\n",
        "print(\"Moda: \", df['TOTAL VENCIMENTO*'].mode()[0])"
      ],
      "execution_count": 10,
      "outputs": [
        {
          "output_type": "stream",
          "text": [
            "Média:  3319.107548585949\n",
            "Menor:  0.0\n",
            "Maior:  67004.96\n",
            "Moda:  1367.19\n"
          ],
          "name": "stdout"
        },
        {
          "output_type": "display_data",
          "data": {
            "image/png": "[encoded data removed]",
            "text/plain": [
              "<Figure size 432x288 with 1 Axes>"
            ]
          },
          "metadata": {
            "tags": [],
            "needs_background": "light"
          }
        }
      ]
    },
    {
      "cell_type": "code",
      "metadata": {
        "id": "kc8bqXsISEfb"
      },
      "source": [
        "media_mensal = []\n",
        "for ano in range(2008, 2022):\n",
        "    for mes in range(1, 13):\n",
        "        filtro_referencia = (df['referencia'] == \"{}_{:02}\".format(ano, mes))\n",
        "        media = np.mean(df[filtro_referencia]['SALÁRIO LÍQUIDO'])\n",
        "        if pd.isnull(media) == False:\n",
        "            media_mensal.append(media)"
      ],
      "execution_count": 11,
      "outputs": []
    },
    {
      "cell_type": "code",
      "metadata": {
        "colab": {
          "base_uri": "https://localhost:8080/",
          "height": 281
        },
        "id": "4thfwia9SKUc",
        "outputId": "03c4881f-70b8-4115-c44d-13c3faffe249"
      },
      "source": [
        "ypoints = np.array(media_mensal)\n",
        "\n",
        "plt.plot(ypoints)\n",
        "plt.title(\"Média geral de salário - Matheus Pimentel\")\n",
        "plt.show()"
      ],
      "execution_count": 12,
      "outputs": [
        {
          "output_type": "display_data",
          "data": {
            "image/png": "[encoded data removed]",
            "text/plain": [
              "<Figure size 432x288 with 1 Axes>"
            ]
          },
          "metadata": {
            "tags": [],
            "needs_background": "light"
          }
        }
      ]
    }
  ]
}