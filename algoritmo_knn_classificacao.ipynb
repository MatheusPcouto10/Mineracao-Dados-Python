{
  "nbformat": 4,
  "nbformat_minor": 0,
  "metadata": {
    "language_info": {
      "codemirror_mode": {
        "name": "ipython",
        "version": 3
      },
      "file_extension": ".py",
      "mimetype": "text/x-python",
      "name": "python",
      "nbconvert_exporter": "python",
      "pygments_lexer": "ipython3",
      "version": "3.9.1"
    },
    "orig_nbformat": 2,
    "kernelspec": {
      "name": "python3",
      "display_name": "Python 3.9.1 64-bit",
      "metadata": {
        "interpreter": {
          "hash": "0050bdc898b9a679c387244c11e8057e7ae4f22360b32a2e55d1f190f6800284"
        }
      }
    },
    "colab": {
      "name": "algoritmo-knn-classificacao.ipynb",
      "provenance": []
    }
  },
  "cells": [
    {
      "cell_type": "markdown",
      "metadata": {
        "id": "SsNorM7BsD_4"
      },
      "source": [
        "# Importações"
      ]
    },
    {
      "cell_type": "code",
      "metadata": {
        "id": "sHKOLRW1q_AK"
      },
      "source": [
        "from sklearn import datasets\n",
        "from sklearn import metrics\n",
        "from sklearn.model_selection import GridSearchCV\n",
        "from sklearn.model_selection import train_test_split\n",
        "from sklearn.neighbors import KNeighborsClassifier\n",
        "import pandas as pd\n",
        "import matplotlib.pyplot as plt"
      ],
      "execution_count": null,
      "outputs": []
    },
    {
      "cell_type": "markdown",
      "metadata": {
        "id": "V5YyWxmst4lp"
      },
      "source": [
        "# Carregando o dataset"
      ]
    },
    {
      "cell_type": "code",
      "metadata": {
        "id": "YS1I3qTKq_AX"
      },
      "source": [
        "iris = datasets.load_iris()"
      ],
      "execution_count": null,
      "outputs": []
    },
    {
      "cell_type": "markdown",
      "metadata": {
        "id": "Gkun5QMbsKDW"
      },
      "source": [
        "# Criando o DataFrame"
      ]
    },
    {
      "cell_type": "code",
      "metadata": {
        "id": "lmaA-zjmq_Ad"
      },
      "source": [
        "df_iris = pd.DataFrame(data=iris.data,columns=iris.feature_names)"
      ],
      "execution_count": null,
      "outputs": []
    },
    {
      "cell_type": "markdown",
      "metadata": {
        "id": "ybwaH9BPsZYZ"
      },
      "source": [
        "# Informações da base de dados:\n",
        "\n"
      ]
    },
    {
      "cell_type": "code",
      "metadata": {
        "colab": {
          "base_uri": "https://localhost:8080/",
          "height": 350
        },
        "id": "scmnQ6R2q_AY",
        "outputId": "3cd6ba50-aff9-419a-8907-765c2aeaa258"
      },
      "source": [
        "df_iris.info()\n",
        "df_iris.head().T"
      ],
      "execution_count": null,
      "outputs": [
        {
          "output_type": "stream",
          "text": [
            "<class 'pandas.core.frame.DataFrame'>\n",
            "RangeIndex: 150 entries, 0 to 149\n",
            "Data columns (total 4 columns):\n",
            " #   Column             Non-Null Count  Dtype  \n",
            "---  ------             --------------  -----  \n",
            " 0   sepal length (cm)  150 non-null    float64\n",
            " 1   sepal width (cm)   150 non-null    float64\n",
            " 2   petal length (cm)  150 non-null    float64\n",
            " 3   petal width (cm)   150 non-null    float64\n",
            "dtypes: float64(4)\n",
            "memory usage: 4.8 KB\n"
          ],
          "name": "stdout"
        },
        {
          "output_type": "execute_result",
          "data": {
            "text/html": [
              "<div>\n",
              "<style scoped>\n",
              "    .dataframe tbody tr th:only-of-type {\n",
              "        vertical-align: middle;\n",
              "    }\n",
              "\n",
              "    .dataframe tbody tr th {\n",
              "        vertical-align: top;\n",
              "    }\n",
              "\n",
              "    .dataframe thead th {\n",
              "        text-align: right;\n",
              "    }\n",
              "</style>\n",
              "<table border=\"1\" class=\"dataframe\">\n",
              "  <thead>\n",
              "    <tr style=\"text-align: right;\">\n",
              "      <th></th>\n",
              "      <th>0</th>\n",
              "      <th>1</th>\n",
              "      <th>2</th>\n",
              "      <th>3</th>\n",
              "      <th>4</th>\n",
              "    </tr>\n",
              "  </thead>\n",
              "  <tbody>\n",
              "    <tr>\n",
              "      <th>sepal length (cm)</th>\n",
              "      <td>5.1</td>\n",
              "      <td>4.9</td>\n",
              "      <td>4.7</td>\n",
              "      <td>4.6</td>\n",
              "      <td>5.0</td>\n",
              "    </tr>\n",
              "    <tr>\n",
              "      <th>sepal width (cm)</th>\n",
              "      <td>3.5</td>\n",
              "      <td>3.0</td>\n",
              "      <td>3.2</td>\n",
              "      <td>3.1</td>\n",
              "      <td>3.6</td>\n",
              "    </tr>\n",
              "    <tr>\n",
              "      <th>petal length (cm)</th>\n",
              "      <td>1.4</td>\n",
              "      <td>1.4</td>\n",
              "      <td>1.3</td>\n",
              "      <td>1.5</td>\n",
              "      <td>1.4</td>\n",
              "    </tr>\n",
              "    <tr>\n",
              "      <th>petal width (cm)</th>\n",
              "      <td>0.2</td>\n",
              "      <td>0.2</td>\n",
              "      <td>0.2</td>\n",
              "      <td>0.2</td>\n",
              "      <td>0.2</td>\n",
              "    </tr>\n",
              "  </tbody>\n",
              "</table>\n",
              "</div>"
            ],
            "text/plain": [
              "                     0    1    2    3    4\n",
              "sepal length (cm)  5.1  4.9  4.7  4.6  5.0\n",
              "sepal width (cm)   3.5  3.0  3.2  3.1  3.6\n",
              "petal length (cm)  1.4  1.4  1.3  1.5  1.4\n",
              "petal width (cm)   0.2  0.2  0.2  0.2  0.2"
            ]
          },
          "metadata": {
            "tags": []
          },
          "execution_count": 27
        }
      ]
    },
    {
      "cell_type": "markdown",
      "metadata": {
        "id": "-ADRFyL3sl1y"
      },
      "source": [
        "# Criando a coluna com os valores da variável target."
      ]
    },
    {
      "cell_type": "code",
      "metadata": {
        "id": "3IG5BOifq_Ae"
      },
      "source": [
        "df_iris['class'] = iris.target"
      ],
      "execution_count": null,
      "outputs": []
    },
    {
      "cell_type": "markdown",
      "metadata": {
        "id": "SttJxit8stpu"
      },
      "source": [
        "# Definindo o percentual de teste e treino em 50%"
      ]
    },
    {
      "cell_type": "code",
      "metadata": {
        "id": "s5Gk6GYXq_Af"
      },
      "source": [
        "X_train, X_test, y_train, y_test = train_test_split(df_iris.drop('class',axis=1), df_iris['class'], test_size=0.5)"
      ],
      "execution_count": null,
      "outputs": []
    },
    {
      "cell_type": "markdown",
      "metadata": {
        "id": "F8DvNOg4s2SJ"
      },
      "source": [
        "# Definindo o número de vizinhos = 5"
      ]
    },
    {
      "cell_type": "code",
      "metadata": {
        "id": "SfG7FhHrq_Af"
      },
      "source": [
        "knn = KNeighborsClassifier(n_neighbors=5)"
      ],
      "execution_count": null,
      "outputs": []
    },
    {
      "cell_type": "markdown",
      "metadata": {
        "id": "yA-JDJaTs51f"
      },
      "source": [
        "# Treino do KNN com o conjunto de teste"
      ]
    },
    {
      "cell_type": "code",
      "metadata": {
        "colab": {
          "base_uri": "https://localhost:8080/"
        },
        "id": "fT14_J2_q_Af",
        "outputId": "5865b657-02a7-45cc-fc08-5793797640f3"
      },
      "source": [
        "knn.fit(X_train, y_train)\n",
        "\n",
        "resultado = knn.predict(X_test)\n",
        "resultado"
      ],
      "execution_count": null,
      "outputs": [
        {
          "output_type": "execute_result",
          "data": {
            "text/plain": [
              "array([0, 0, 0, 1, 2, 2, 0, 0, 0, 2, 1, 2, 2, 0, 1, 2, 1, 0, 1, 1, 0, 1,\n",
              "       2, 1, 0, 0, 2, 0, 1, 2, 0, 2, 1, 2, 2, 1, 2, 2, 0, 1, 2, 1, 0, 1,\n",
              "       1, 1, 1, 2, 1, 2, 0, 0, 0, 2, 2, 1, 2, 0, 1, 2, 2, 1, 2, 2, 1, 1,\n",
              "       2, 2, 0, 1, 0, 1, 2, 2, 2])"
            ]
          },
          "metadata": {
            "tags": []
          },
          "execution_count": 31
        }
      ]
    },
    {
      "cell_type": "markdown",
      "metadata": {
        "id": "iOkwvnV5tLZO"
      },
      "source": [
        "# Matriz de Confusão"
      ]
    },
    {
      "cell_type": "code",
      "metadata": {
        "colab": {
          "base_uri": "https://localhost:8080/"
        },
        "id": "WgUzK1L5q_Ag",
        "outputId": "072ac22c-cfb2-45ac-fd9f-ef1af8f6a1fb"
      },
      "source": [
        "print (pd.crosstab(y_test,resultado, rownames=['Real'], colnames=['Predito'], margins=True))"
      ],
      "execution_count": null,
      "outputs": [
        {
          "output_type": "stream",
          "text": [
            "Predito   0   1   2  All\n",
            "Real                    \n",
            "0        21   0   0   21\n",
            "1         0  25   3   28\n",
            "2         0   0  26   26\n",
            "All      21  25  29   75\n"
          ],
          "name": "stdout"
        }
      ]
    },
    {
      "cell_type": "markdown",
      "metadata": {
        "id": "0Wlt354htSfr"
      },
      "source": [
        "# Métricas"
      ]
    },
    {
      "cell_type": "code",
      "metadata": {
        "colab": {
          "base_uri": "https://localhost:8080/"
        },
        "id": "yDd9Dxh6q_Ag",
        "outputId": "a94f7827-c346-4b71-dc2f-8f1597f367a4"
      },
      "source": [
        "print(metrics.classification_report(y_test,resultado,target_names=iris.target_names))"
      ],
      "execution_count": null,
      "outputs": [
        {
          "output_type": "stream",
          "text": [
            "              precision    recall  f1-score   support\n",
            "\n",
            "      setosa       1.00      1.00      1.00        21\n",
            "  versicolor       1.00      0.89      0.94        28\n",
            "   virginica       0.90      1.00      0.95        26\n",
            "\n",
            "    accuracy                           0.96        75\n",
            "   macro avg       0.97      0.96      0.96        75\n",
            "weighted avg       0.96      0.96      0.96        75\n",
            "\n"
          ],
          "name": "stdout"
        }
      ]
    },
    {
      "cell_type": "markdown",
      "metadata": {
        "id": "AMWo-qZ1tWaq"
      },
      "source": [
        "# Definindo a lista de valores."
      ]
    },
    {
      "cell_type": "code",
      "metadata": {
        "id": "PecZJnQWq_Ag"
      },
      "source": [
        "k_list = list(range(1,25))"
      ],
      "execution_count": null,
      "outputs": []
    },
    {
      "cell_type": "markdown",
      "metadata": {
        "id": "FTlT2P9qta7B"
      },
      "source": [
        "# Colocando os valores em um dicionário"
      ]
    },
    {
      "cell_type": "code",
      "metadata": {
        "id": "Kszc-JuZq_Ah"
      },
      "source": [
        "parametros = dict(n_neighbors=k_list)"
      ],
      "execution_count": null,
      "outputs": []
    },
    {
      "cell_type": "markdown",
      "metadata": {
        "id": "xg9-G2vrthcb"
      },
      "source": [
        "# Instanciando o objeto GridSearch"
      ]
    },
    {
      "cell_type": "code",
      "metadata": {
        "id": "6fsV1tyZq_Ah"
      },
      "source": [
        "grid = GridSearchCV(knn, parametros, cv=5, scoring='accuracy')"
      ],
      "execution_count": null,
      "outputs": []
    },
    {
      "cell_type": "markdown",
      "metadata": {
        "id": "lXWdhmdEtk-9"
      },
      "source": [
        "# Treinando o objeto"
      ]
    },
    {
      "cell_type": "code",
      "metadata": {
        "colab": {
          "base_uri": "https://localhost:8080/"
        },
        "id": "AyOObQHTq_Ah",
        "outputId": "5f523d29-4d85-4275-bdad-f2ed2fb3877a"
      },
      "source": [
        "grid.fit(df_iris.drop('class',axis=1),df_iris['class'])"
      ],
      "execution_count": null,
      "outputs": [
        {
          "output_type": "execute_result",
          "data": {
            "text/plain": [
              "GridSearchCV(cv=5, error_score=nan,\n",
              "             estimator=KNeighborsClassifier(algorithm='auto', leaf_size=30,\n",
              "                                            metric='minkowski',\n",
              "                                            metric_params=None, n_jobs=None,\n",
              "                                            n_neighbors=5, p=2,\n",
              "                                            weights='uniform'),\n",
              "             iid='deprecated', n_jobs=None,\n",
              "             param_grid={'n_neighbors': [1, 2, 3, 4, 5, 6, 7, 8, 9, 10, 11, 12,\n",
              "                                         13, 14, 15, 16, 17, 18, 19, 20, 21, 22,\n",
              "                                         23, 24]},\n",
              "             pre_dispatch='2*n_jobs', refit=True, return_train_score=False,\n",
              "             scoring='accuracy', verbose=0)"
            ]
          },
          "metadata": {
            "tags": []
          },
          "execution_count": 37
        }
      ]
    },
    {
      "cell_type": "markdown",
      "metadata": {
        "id": "38SffNB_tsOT"
      },
      "source": [
        "# Exibindo o melhor valor para o parâmetro K"
      ]
    },
    {
      "cell_type": "code",
      "metadata": {
        "colab": {
          "base_uri": "https://localhost:8080/"
        },
        "id": "eI_nlHfRq_Ai",
        "outputId": "44a81336-0543-4bd3-8a60-242e1e28083e"
      },
      "source": [
        "print(\"Melhores parametros {} com o valor de acurácia {} \".format(grid.best_params_,grid.best_score_))"
      ],
      "execution_count": null,
      "outputs": [
        {
          "output_type": "stream",
          "text": [
            "Melhores parametros {'n_neighbors': 6} com o valor de acurácia 0.9800000000000001 \n"
          ],
          "name": "stdout"
        }
      ]
    },
    {
      "cell_type": "markdown",
      "metadata": {
        "id": "m35j_osxt1Ma"
      },
      "source": [
        ""
      ]
    }
  ]
}