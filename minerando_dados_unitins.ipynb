{
  "nbformat": 4,
  "nbformat_minor": 0,
  "metadata": {
    "colab": {
      "name": "minerando-dados-unitins.ipynb",
      "provenance": []
    },
    "kernelspec": {
      "name": "python3",
      "display_name": "Python 3"
    }
  },
  "cells": [
    {
      "cell_type": "code",
      "metadata": {
        "id": "b1NlMmH_BHPQ"
      },
      "source": [
        "import pandas as pd"
      ],
      "execution_count": 5,
      "outputs": []
    },
    {
      "cell_type": "code",
      "metadata": {
        "id": "BTK6YX0PpRtz"
      },
      "source": [
        "url = \"https://www.unitins.br/portaltransparencia/folha-de-pagamento?TipoAno=2021&tipoMes=02&TipoPesquisa=Nome&busca=\"\n",
        "salario = pd.read_html(url)"
      ],
      "execution_count": 6,
      "outputs": []
    },
    {
      "cell_type": "code",
      "metadata": {
        "id": "lsT_ux3cpWVi"
      },
      "source": [
        "df = pd.DataFrame(salario[0])"
      ],
      "execution_count": 7,
      "outputs": []
    },
    {
      "cell_type": "code",
      "metadata": {
        "id": "ks9AksPmp6XK"
      },
      "source": [
        "# df.head()\n",
        "\n",
        "print(\"Total de servidores: \", len(df))\n",
        "print(\"Total de efetivos: \", len(df[df['VÍNCULO'] == 'EFETIVO']))\n",
        "print(\"Total de comissionados: \", len(df[df['VÍNCULO'] == 'COMISSIONADO']))\n",
        "print(\"Total de contratados: \", len(df[df['VÍNCULO'] == 'CONTRATADO']))\n",
        "print(\"Total de a disposição: \", len(df[df['VÍNCULO'] == 'EFETIVO/Disp']))"
      ],
      "execution_count": null,
      "outputs": []
    },
    {
      "cell_type": "code",
      "metadata": {
        "id": "eXlEqdxCB0O4"
      },
      "source": [
        "profs = ['PROF. ADJUNTO I', 'PROF. DOUTOR I /2893', 'PROF. MESTRE I /2893', \n",
        "         'PROF.UNIVERSITARIO 2','PROF UNIVERSITARIO 3', 'PROF UNIVERSITARIO I', \n",
        "         'QS PU1PROF ESP. 4','QS PU1PROF, DOUTOR4', 'QS PUI PROF, MESTRE 4']\n",
        "\n",
        "#filtro_prof_efetivos = (df['FUNÇÃO']. isin(profs)) & (df['VÍNCULO'] == 'EFETIVO')\n",
        "\n",
        "tiposProfessores = df['VÍNCULO'].unique()\n"
      ],
      "execution_count": 31,
      "outputs": []
    },
    {
      "cell_type": "code",
      "metadata": {
        "id": "XUka21aKkqUo"
      },
      "source": [
        "def formatarSalario(salario):\n",
        "    salario = salario.replace('R$', '').replace('.', '').replace(',', '.')\n",
        "    return float(salario.strip())"
      ],
      "execution_count": 23,
      "outputs": []
    },
    {
      "cell_type": "code",
      "metadata": {
        "id": "1HpLJp2ykwtV"
      },
      "source": [
        "for professor in profs:\n",
        "      for tipoProfessor in tiposProfessores:\n",
        "          filtro = (df['FUNÇÃO'] == professor) & (df['VÍNCULO'] == tipoProfessor)\n",
        "          df_filtro = df[filtro]\n",
        "\n",
        "          if not df_filtro.empty:\n",
        "              print('{} | {}'.format(professor, tipoProfessor))\n",
        "              for i in df_filtro.index:\n",
        "                      df_filtro['SALÁRIO LÍQUIDO'][i] = formatarSalario(df_filtro['SALÁRIO LÍQUIDO'][i])\n",
        "\n",
        "              print('Quantidade de Professores: {}'.format(len(df_filtro['SALÁRIO LÍQUIDO'])))\n",
        "              print('Maior salário: {}'.format(df_filtro['SALÁRIO LÍQUIDO'].max()))\n",
        "              print('Menor salário: {}'.format(df_filtro['SALÁRIO LÍQUIDO'].min()))\n",
        "              print('Média salarial: {}'.format(df_filtro['SALÁRIO LÍQUIDO'].mean()))\n",
        "              print('\\n')"
      ],
      "execution_count": null,
      "outputs": []
    }
  ]
}